{
 "cells": [
  {
   "cell_type": "code",
   "execution_count": 12,
   "id": "0c578081",
   "metadata": {},
   "outputs": [],
   "source": [
    "import pandas as pd \n",
    "import numpy as np\n",
    "import matplotlib.pyplot as plt\n",
    "from sklearn.ensemble import RandomForestRegressor\n",
    "from sklearn.model_selection import train_test_split\n",
    "from sklearn.metrics import r2_score, mean_absolute_error, mean_squared_error\n",
    "import warnings\n",
    "\n",
    "warnings.filterwarnings('ignore')"
   ]
  },
  {
   "cell_type": "code",
   "execution_count": 13,
   "id": "07db668a",
   "metadata": {},
   "outputs": [
    {
     "name": "stdout",
     "output_type": "stream",
     "text": [
      "Loaded dataset\n"
     ]
    }
   ],
   "source": [
    "data = pd.read_csv('./dataset/data.csv')\n",
    "\n",
    "print(\"Loaded dataset\")"
   ]
  },
  {
   "cell_type": "code",
   "execution_count": 14,
   "id": "adb1baaa",
   "metadata": {},
   "outputs": [],
   "source": [
    "def remove_outliers(series):\n",
    "    # Calculate the first quartile (Q1), third quartile (Q3), and IQR\n",
    "    q1 = np.percentile(series, 25)\n",
    "    q3 = np.percentile(series, 75)\n",
    "    iqr = q3 - q1\n",
    "    \n",
    "    # Calculate the lower and upper bounds for outliers\n",
    "    lower_bound = q1 - 1.5 * iqr\n",
    "    upper_bound = q3 + 1.5 * iqr\n",
    "    \n",
    "    # Remove outliers from the series\n",
    "    # Cleaned_series = [x for x in series if lower_bound <= x <= upper_bound]\n",
    "    \n",
    "    return lower_bound, upper_bound"
   ]
  },
  {
   "cell_type": "code",
   "execution_count": 15,
   "id": "7d3d84cd",
   "metadata": {},
   "outputs": [
    {
     "name": "stdout",
     "output_type": "stream",
     "text": [
      "Number of samples for training set: (146771, 4)\n",
      "Number of samples for test set: (62902, 4)\n"
     ]
    }
   ],
   "source": [
    "model_features = ['trip_duration', 'distance_traveled', 'num_of_passengers', 'surge_applied']\n",
    "X = data[model_features]\n",
    "y = data['fare']\n",
    "X_train, X_test, y_train, y_test = train_test_split(X,y,train_size=0.7, random_state=101)\n",
    "\n",
    "print(f\"Number of samples for training set: {X_train.shape}\")\n",
    "print(f\"Number of samples for test set: {X_test.shape}\")"
   ]
  },
  {
   "cell_type": "code",
   "execution_count": 16,
   "id": "9beb73bf",
   "metadata": {},
   "outputs": [],
   "source": [
    "X_train['trip_duration_lb'], X_train['trip_duration_ub'] = remove_outliers(X_train['trip_duration'])\n",
    "X_train['distance_traveled_lb'], X_train['distance_traveled_ub'] = remove_outliers(X_train['distance_traveled'])\n",
    "X_train = X_train.loc[(X_train['trip_duration'] <= X_train['trip_duration_ub']) & (X_train['distance_traveled'] <= X_train['distance_traveled_ub'])]"
   ]
  },
  {
   "cell_type": "code",
   "execution_count": 17,
   "id": "e284d886",
   "metadata": {},
   "outputs": [],
   "source": [
    "X_train = X_train[model_features]"
   ]
  },
  {
   "cell_type": "code",
   "execution_count": 18,
   "id": "004e766e",
   "metadata": {},
   "outputs": [],
   "source": [
    "y_train = y_train[X_train.index]"
   ]
  },
  {
   "cell_type": "code",
   "execution_count": 19,
   "id": "ca2dd6a4",
   "metadata": {},
   "outputs": [
    {
     "data": {
      "text/plain": [
       "RandomForestRegressor()"
      ]
     },
     "execution_count": 19,
     "metadata": {},
     "output_type": "execute_result"
    }
   ],
   "source": [
    "model = RandomForestRegressor()\n",
    "model.fit(X_train, y_train)"
   ]
  },
  {
   "cell_type": "code",
   "execution_count": 20,
   "id": "ef805d60",
   "metadata": {},
   "outputs": [],
   "source": [
    "y_pred = model.predict(X_test)"
   ]
  },
  {
   "cell_type": "code",
   "execution_count": 21,
   "id": "4a904d88",
   "metadata": {},
   "outputs": [
    {
     "data": {
      "text/html": [
       "<div>\n",
       "<style scoped>\n",
       "    .dataframe tbody tr th:only-of-type {\n",
       "        vertical-align: middle;\n",
       "    }\n",
       "\n",
       "    .dataframe tbody tr th {\n",
       "        vertical-align: top;\n",
       "    }\n",
       "\n",
       "    .dataframe thead th {\n",
       "        text-align: right;\n",
       "    }\n",
       "</style>\n",
       "<table border=\"1\" class=\"dataframe\">\n",
       "  <thead>\n",
       "    <tr style=\"text-align: right;\">\n",
       "      <th></th>\n",
       "      <th>fare</th>\n",
       "      <th>Predicted Fare</th>\n",
       "    </tr>\n",
       "  </thead>\n",
       "  <tbody>\n",
       "    <tr>\n",
       "      <th>160516</th>\n",
       "      <td>180.00</td>\n",
       "      <td>180.937500</td>\n",
       "    </tr>\n",
       "    <tr>\n",
       "      <th>193984</th>\n",
       "      <td>195.00</td>\n",
       "      <td>191.568750</td>\n",
       "    </tr>\n",
       "    <tr>\n",
       "      <th>170682</th>\n",
       "      <td>86.25</td>\n",
       "      <td>83.018750</td>\n",
       "    </tr>\n",
       "    <tr>\n",
       "      <th>205636</th>\n",
       "      <td>262.50</td>\n",
       "      <td>197.250000</td>\n",
       "    </tr>\n",
       "    <tr>\n",
       "      <th>149651</th>\n",
       "      <td>63.75</td>\n",
       "      <td>63.862500</td>\n",
       "    </tr>\n",
       "    <tr>\n",
       "      <th>...</th>\n",
       "      <td>...</td>\n",
       "      <td>...</td>\n",
       "    </tr>\n",
       "    <tr>\n",
       "      <th>84947</th>\n",
       "      <td>183.75</td>\n",
       "      <td>175.012500</td>\n",
       "    </tr>\n",
       "    <tr>\n",
       "      <th>4384</th>\n",
       "      <td>390.00</td>\n",
       "      <td>197.250000</td>\n",
       "    </tr>\n",
       "    <tr>\n",
       "      <th>159590</th>\n",
       "      <td>243.75</td>\n",
       "      <td>197.550000</td>\n",
       "    </tr>\n",
       "    <tr>\n",
       "      <th>190532</th>\n",
       "      <td>75.00</td>\n",
       "      <td>85.451250</td>\n",
       "    </tr>\n",
       "    <tr>\n",
       "      <th>4290</th>\n",
       "      <td>33.75</td>\n",
       "      <td>41.254792</td>\n",
       "    </tr>\n",
       "  </tbody>\n",
       "</table>\n",
       "<p>62902 rows × 2 columns</p>\n",
       "</div>"
      ],
      "text/plain": [
       "          fare  Predicted Fare\n",
       "160516  180.00      180.937500\n",
       "193984  195.00      191.568750\n",
       "170682   86.25       83.018750\n",
       "205636  262.50      197.250000\n",
       "149651   63.75       63.862500\n",
       "...        ...             ...\n",
       "84947   183.75      175.012500\n",
       "4384    390.00      197.250000\n",
       "159590  243.75      197.550000\n",
       "190532   75.00       85.451250\n",
       "4290     33.75       41.254792\n",
       "\n",
       "[62902 rows x 2 columns]"
      ]
     },
     "execution_count": 21,
     "metadata": {},
     "output_type": "execute_result"
    }
   ],
   "source": [
    "comparing_dump_df = pd.DataFrame(y_test)\n",
    "comparing_dump_df['Predicted Fare'] = y_pred\n",
    "comparing_dump_df"
   ]
  },
  {
   "cell_type": "code",
   "execution_count": 22,
   "id": "9733df3f",
   "metadata": {},
   "outputs": [
    {
     "name": "stdout",
     "output_type": "stream",
     "text": [
      "Model Score: 0.5126\n",
      "Mean Absolute Error (MAE): 14.6717\n",
      "Mean Squared Error (MSE): 3410.5534\n"
     ]
    }
   ],
   "source": [
    "mae = mean_absolute_error(y_test, y_pred)\n",
    "mse = mean_squared_error(y_test, y_pred)\n",
    "score = r2_score(y_test, y_pred)\n",
    "print(f\"Model Score: {score:.4f}\")\n",
    "print(f\"Mean Absolute Error (MAE): {mae:.4f}\")\n",
    "print(f\"Mean Squared Error (MSE): {mse:.4f}\")"
   ]
  },
  {
   "cell_type": "code",
   "execution_count": 23,
   "id": "93b3c67e",
   "metadata": {},
   "outputs": [
    {
     "data": {
      "image/png": "[encoded data removed]",
      "text/plain": [
       "<Figure size 432x288 with 1 Axes>"
      ]
     },
     "metadata": {
      "needs_background": "light"
     },
     "output_type": "display_data"
    }
   ],
   "source": [
    "true_value = y_test\n",
    "predicted_value = y_pred \n",
    "\n",
    "plt.scatter(true_value, predicted_value, c='crimson')\n",
    "plt.yscale('log')\n",
    "plt.xscale('log')\n",
    "\n",
    "p1 = max(max(predicted_value), max(true_value))\n",
    "p2 = min(min(predicted_value), min(true_value))\n",
    "plt.plot([p1, p2], [p1, p2], 'b-')\n",
    "plt.xlabel('True Values', fontsize=15)\n",
    "plt.ylabel('Predictions', fontsize=15)\n",
    "plt.axis('equal')\n",
    "plt.show()"
   ]
  },
  {
   "cell_type": "code",
   "execution_count": null,
   "id": "0d2928bf",
   "metadata": {},
   "outputs": [],
   "source": []
  }
 ],
 "metadata": {
  "kernelspec": {
   "display_name": "Python 3",
   "language": "python",
   "name": "python3"
  },
  "language_info": {
   "codemirror_mode": {
    "name": "ipython",
    "version": 3
   },
   "file_extension": ".py",
   "mimetype": "text/x-python",
   "name": "python",
   "nbconvert_exporter": "python",
   "pygments_lexer": "ipython3",
   "version": "3.8.8"
  }
 },
 "nbformat": 4,
 "nbformat_minor": 5
}

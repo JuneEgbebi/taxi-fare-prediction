{
 "cells": [
  {
   "cell_type": "code",
   "execution_count": 1,
   "id": "be3c79ff",
   "metadata": {},
   "outputs": [],
   "source": [
    "import pandas as pd\n",
    "import numpy as np\n",
    "import matplotlib.pyplot as plt\n",
    "from sklearn.ensemble import GradientBoostingRegressor\n",
    "from sklearn.model_selection import train_test_split\n",
    "from sklearn.metrics import r2_score, mean_absolute_error, mean_squared_error\n",
    "import joblib\n",
    "import warnings\n",
    "\n",
    "warnings.filterwarnings('ignore')"
   ]
  },
  {
   "cell_type": "code",
   "execution_count": 2,
   "id": "7eb0f4c2",
   "metadata": {},
   "outputs": [
    {
     "name": "stdout",
     "output_type": "stream",
     "text": [
      "Loaded dataset\n"
     ]
    }
   ],
   "source": [
    "data = pd.read_csv('./dataset/data.csv')\n",
    "\n",
    "print(\"Loaded dataset\")"
   ]
  },
  {
   "cell_type": "code",
   "execution_count": 3,
   "id": "278c055d",
   "metadata": {},
   "outputs": [],
   "source": [
    "def remove_outliers(series):\n",
    "    # Calculate the first quartile (Q1), third quartile (Q3), and IQR\n",
    "    q1 = np.percentile(series, 25)\n",
    "    q3 = np.percentile(series, 75)\n",
    "    iqr = q3 - q1\n",
    "    \n",
    "    # Calculate the lower and upper bounds for outliers\n",
    "    lower_bound = q1 - 1.5 * iqr\n",
    "    upper_bound = q3 + 1.5 * iqr\n",
    "    \n",
    "    # Remove outliers from the series\n",
    "    # Cleaned_series = [x for x in series if lower_bound <= x <= upper_bound]\n",
    "    \n",
    "    return lower_bound, upper_bound"
   ]
  },
  {
   "cell_type": "code",
   "execution_count": 4,
   "id": "b09c874f",
   "metadata": {},
   "outputs": [
    {
     "name": "stdout",
     "output_type": "stream",
     "text": [
      "Number of samples for training set: (146771, 4)\n",
      "Number of samples for test set: (62902, 4)\n"
     ]
    }
   ],
   "source": [
    "model_features = ['trip_duration', 'distance_traveled', 'num_of_passengers', 'surge_applied']\n",
    "X = data[model_features]\n",
    "y = data['fare']\n",
    "X_train, X_test, y_train, y_test = train_test_split(X,y,train_size=0.7, random_state=101)\n",
    "\n",
    "print(f\"Number of samples for training set: {X_train.shape}\")\n",
    "print(f\"Number of samples for test set: {X_test.shape}\")"
   ]
  },
  {
   "cell_type": "code",
   "execution_count": 5,
   "id": "631f6793",
   "metadata": {},
   "outputs": [],
   "source": [
    "X_train['trip_duration_lb'], X_train['trip_duration_ub'] = remove_outliers(X_train['trip_duration'])\n",
    "X_train['distance_traveled_lb'], X_train['distance_traveled_ub'] = remove_outliers(X_train['distance_traveled'])\n",
    "X_train = X_train.loc[(X_train['trip_duration'] <= X_train['trip_duration_ub']) & (X_train['distance_traveled'] <= X_train['distance_traveled_ub'])]"
   ]
  },
  {
   "cell_type": "code",
   "execution_count": 6,
   "id": "66240450",
   "metadata": {},
   "outputs": [],
   "source": [
    "X_train = X_train[model_features]"
   ]
  },
  {
   "cell_type": "code",
   "execution_count": 7,
   "id": "094936c2",
   "metadata": {},
   "outputs": [],
   "source": [
    "y_train = y_train[X_train.index]"
   ]
  },
  {
   "cell_type": "code",
   "execution_count": 8,
   "id": "12e56b3e",
   "metadata": {},
   "outputs": [
    {
     "data": {
      "text/plain": [
       "GradientBoostingRegressor(n_estimators=200, random_state=101)"
      ]
     },
     "execution_count": 8,
     "metadata": {},
     "output_type": "execute_result"
    }
   ],
   "source": [
    "model = GradientBoostingRegressor(n_estimators=200, learning_rate=0.1, random_state=101)\n",
    "model.fit(X_train, y_train)"
   ]
  },
  {
   "cell_type": "code",
   "execution_count": 9,
   "id": "d6b3e0ab",
   "metadata": {},
   "outputs": [],
   "source": [
    "y_pred = model.predict(X_test)"
   ]
  },
  {
   "cell_type": "code",
   "execution_count": 10,
   "id": "1b693cde",
   "metadata": {},
   "outputs": [
    {
     "data": {
      "text/html": [
       "<div>\n",
       "<style scoped>\n",
       "    .dataframe tbody tr th:only-of-type {\n",
       "        vertical-align: middle;\n",
       "    }\n",
       "\n",
       "    .dataframe tbody tr th {\n",
       "        vertical-align: top;\n",
       "    }\n",
       "\n",
       "    .dataframe thead th {\n",
       "        text-align: right;\n",
       "    }\n",
       "</style>\n",
       "<table border=\"1\" class=\"dataframe\">\n",
       "  <thead>\n",
       "    <tr style=\"text-align: right;\">\n",
       "      <th></th>\n",
       "      <th>fare</th>\n",
       "      <th>Predicted Fare</th>\n",
       "    </tr>\n",
       "  </thead>\n",
       "  <tbody>\n",
       "    <tr>\n",
       "      <th>160516</th>\n",
       "      <td>180.00</td>\n",
       "      <td>184.207839</td>\n",
       "    </tr>\n",
       "    <tr>\n",
       "      <th>193984</th>\n",
       "      <td>195.00</td>\n",
       "      <td>191.613847</td>\n",
       "    </tr>\n",
       "    <tr>\n",
       "      <th>170682</th>\n",
       "      <td>86.25</td>\n",
       "      <td>82.304714</td>\n",
       "    </tr>\n",
       "    <tr>\n",
       "      <th>205636</th>\n",
       "      <td>262.50</td>\n",
       "      <td>199.856938</td>\n",
       "    </tr>\n",
       "    <tr>\n",
       "      <th>149651</th>\n",
       "      <td>63.75</td>\n",
       "      <td>64.240445</td>\n",
       "    </tr>\n",
       "    <tr>\n",
       "      <th>...</th>\n",
       "      <td>...</td>\n",
       "      <td>...</td>\n",
       "    </tr>\n",
       "    <tr>\n",
       "      <th>84947</th>\n",
       "      <td>183.75</td>\n",
       "      <td>175.793704</td>\n",
       "    </tr>\n",
       "    <tr>\n",
       "      <th>4384</th>\n",
       "      <td>390.00</td>\n",
       "      <td>199.856938</td>\n",
       "    </tr>\n",
       "    <tr>\n",
       "      <th>159590</th>\n",
       "      <td>243.75</td>\n",
       "      <td>200.186786</td>\n",
       "    </tr>\n",
       "    <tr>\n",
       "      <th>190532</th>\n",
       "      <td>75.00</td>\n",
       "      <td>167.397164</td>\n",
       "    </tr>\n",
       "    <tr>\n",
       "      <th>4290</th>\n",
       "      <td>33.75</td>\n",
       "      <td>35.525402</td>\n",
       "    </tr>\n",
       "  </tbody>\n",
       "</table>\n",
       "<p>62902 rows × 2 columns</p>\n",
       "</div>"
      ],
      "text/plain": [
       "          fare  Predicted Fare\n",
       "160516  180.00      184.207839\n",
       "193984  195.00      191.613847\n",
       "170682   86.25       82.304714\n",
       "205636  262.50      199.856938\n",
       "149651   63.75       64.240445\n",
       "...        ...             ...\n",
       "84947   183.75      175.793704\n",
       "4384    390.00      199.856938\n",
       "159590  243.75      200.186786\n",
       "190532   75.00      167.397164\n",
       "4290     33.75       35.525402\n",
       "\n",
       "[62902 rows x 2 columns]"
      ]
     },
     "execution_count": 10,
     "metadata": {},
     "output_type": "execute_result"
    }
   ],
   "source": [
    "comparing_dump_df = pd.DataFrame(y_test)\n",
    "comparing_dump_df['Predicted Fare'] = y_pred\n",
    "comparing_dump_df"
   ]
  },
  {
   "cell_type": "code",
   "execution_count": 11,
   "id": "326cb2c8",
   "metadata": {},
   "outputs": [
    {
     "name": "stdout",
     "output_type": "stream",
     "text": [
      "Model Score: 0.5559\n",
      "Mean Absolute Error (MAE): 13.3912\n",
      "Mean Squared Error (MSE): 3108.0473\n"
     ]
    }
   ],
   "source": [
    "mae = mean_absolute_error(y_test, y_pred)\n",
    "mse = mean_squared_error(y_test, y_pred)\n",
    "score = r2_score(y_test, y_pred)\n",
    "print(f\"Model Score: {score:.4f}\")\n",
    "print(f\"Mean Absolute Error (MAE): {mae:.4f}\")\n",
    "print(f\"Mean Squared Error (MSE): {mse:.4f}\")"
   ]
  },
  {
   "cell_type": "code",
   "execution_count": 138,
   "id": "dfe0db4e",
   "metadata": {},
   "outputs": [
    {
     "data": {
      "image/png": "[encoded data removed]",
      "text/plain": [
       "<Figure size 432x288 with 1 Axes>"
      ]
     },
     "metadata": {
      "needs_background": "light"
     },
     "output_type": "display_data"
    }
   ],
   "source": [
    "true_value = y_test\n",
    "predicted_value = y_pred \n",
    "\n",
    "plt.scatter(true_value, predicted_value, c='crimson')\n",
    "\n",
    "p1 = max(max(predicted_value), max(true_value))\n",
    "p2 = min(min(predicted_value), min(true_value))\n",
    "plt.plot([p1, p2], [p1, p2], 'b-')\n",
    "plt.xlabel('True Values', fontsize=15)\n",
    "plt.ylabel('Predictions', fontsize=15)\n",
    "plt.axis('equal')\n",
    "plt.show()"
   ]
  },
  {
   "cell_type": "code",
   "execution_count": 139,
   "id": "ac896f3e",
   "metadata": {},
   "outputs": [
    {
     "data": {
      "text/plain": [
       "['gradient_boosting_model.joblib']"
      ]
     },
     "execution_count": 139,
     "metadata": {},
     "output_type": "execute_result"
    }
   ],
   "source": [
    "joblib.dump(model, 'gradient_boosting_model.joblib')"
   ]
  }
 ],
 "metadata": {
  "kernelspec": {
   "display_name": "Python 3",
   "language": "python",
   "name": "python3"
  },
  "language_info": {
   "codemirror_mode": {
    "name": "ipython",
    "version": 3
   },
   "file_extension": ".py",
   "mimetype": "text/x-python",
   "name": "python",
   "nbconvert_exporter": "python",
   "pygments_lexer": "ipython3",
   "version": "3.8.8"
  }
 },
 "nbformat": 4,
 "nbformat_minor": 5
}
